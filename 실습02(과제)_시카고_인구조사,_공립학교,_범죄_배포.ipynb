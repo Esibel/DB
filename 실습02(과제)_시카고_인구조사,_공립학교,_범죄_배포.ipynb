{
  "cells": [
    {
      "cell_type": "markdown",
      "metadata": {
        "id": "view-in-github",
        "colab_type": "text"
      },
      "source": [
        "<a href=\"https://colab.research.google.com/github/Esibel/DB/blob/main/%EC%8B%A4%EC%8A%B502(%EA%B3%BC%EC%A0%9C)_%EC%8B%9C%EC%B9%B4%EA%B3%A0_%EC%9D%B8%EA%B5%AC%EC%A1%B0%EC%82%AC%2C_%EA%B3%B5%EB%A6%BD%ED%95%99%EA%B5%90%2C_%EB%B2%94%EC%A3%84_%EB%B0%B0%ED%8F%AC.ipynb\" target=\"_parent\"><img src=\"https://colab.research.google.com/assets/colab-badge.svg\" alt=\"Open In Colab\"/></a>"
      ]
    },
    {
      "cell_type": "markdown",
      "metadata": {
        "id": "I0RhdmG7H37p"
      },
      "source": [
        "# 소개\n",
        "\n",
        "이 Python notebook 을 사용하여 다음을 수행한다:\n",
        "\n",
        "1. 시카고의 세 가지 데이터 세트를 이해한다  \n",
        "2. 세 가지 데이터 세트를 SQLite 데이터베이스의 세 개 테이블에 로드한다  \n",
        "3. SQL 쿼리를 실행하여 과제 질문에 답한다  \n"
      ]
    },
    {
      "cell_type": "markdown",
      "metadata": {
        "id": "VAz5Iwp4H37q"
      },
      "source": [
        "## 데이터 세트 이해하기\n",
        "\n",
        "이 노트북의 과제를 완료하려면 시카고 데이터 포털에서 제공하는 다음 세 가지 데이터 세트를 사용해야 한다:\n",
        "\n",
        "1.  <a href=\"https://data.cityofchicago.org/Health-Human-Services/Census-Data-Selected-socioeconomic-indicators-in-C/kn9c-c2s2?utm_medium=Exinfluencer&utm_source=Exinfluencer&utm_content=000026UJ&utm_term=10006555&utm_id=NA-SkillsNetwork-Channel-SkillsNetworkCoursesIBMDeveloperSkillsNetworkDB0201ENSkillsNetwork20127838-2021-01-01\">Socioeconomic Indicators in Chicago</a>  \n",
        "2.  <a href=\"https://data.cityofchicago.org/Education/Chicago-Public-Schools-Progress-Report-Cards-2011-/9xs2-f89t?utm_medium=Exinfluencer&utm_source=Exinfluencer&utm_content=000026UJ&utm_term=10006555&utm_id=NA-SkillsNetwork-Channel-SkillsNetworkCoursesIBMDeveloperSkillsNetworkDB0201ENSkillsNetwork20127838-2021-01-01\">Chicago Public Schools</a>  \n",
        "3.  <a href=\"https://data.cityofchicago.org/Public-Safety/Crimes-2001-to-present/ijzp-q8t2?utm_medium=Exinfluencer&utm_source=Exinfluencer&utm_content=000026UJ&utm_term=10006555&utm_id=NA-SkillsNetwork-Channel-SkillsNetworkCoursesIBMDeveloperSkillsNetworkDB0201ENSkillsNetwork20127838-2021-01-01\">Chicago Crime Data</a>  \n",
        "\n",
        "### 1. Socioeconomic Indicators in Chicago(시카고의 사회경제적 지표)\n",
        "\n",
        "이 데이터 세트에는 공중 보건과 관련된 6가지 사회경제적 지표와 2008-2012년 동안 각 시카고 커뮤니티 지역의 \"Hardship Index\"가 포함되어 있다.\n",
        "\n",
        "이 데이터 세트에 대한 자세한 설명과 원본 데이터 세트는 시카고 데이터 포털에서 확인할 수 있다:  \n",
        "\n",
        "[https://data.cityofchicago.org/Health-Human-Services/Census-Data-Selected-socioeconomic-indicators-in-C/kn9c-c2s2](https://data.cityofchicago.org/Health-Human-Services/Census-Data-Selected-socioeconomic-indicators-in-C/kn9c-c2s2?utm_medium=Exinfluencer&utm_source=Exinfluencer&utm_content=000026UJ&utm_term=10006555&utm_id=NA-SkillsNetwork-Channel-SkillsNetworkCoursesIBMDeveloperSkillsNetworkDB0201ENSkillsNetwork20127838-2021-01-01&cm_mmc=Email_Newsletter-\\_-Developer_Ed%2BTech-\\_-WW_WW-\\_-SkillsNetwork-Courses-IBMDeveloperSkillsNetwork-DB0201EN-SkillsNetwork-20127838&cm_mmca1=000026UJ&cm_mmca2=10006555&cm_mmca3=M12345678&cvosrc=email.Newsletter.M12345678&cvo_campaign=000026UJ)\n",
        "\n",
        "### 2. Chicago Public Schools(시카고 공립학교)\n",
        "\n",
        "이 데이터 세트는 2011-2012 학년도 CPS 학교 보고서 카드를 생성하는 데 사용된 모든 학교 수준의 성과 데이터를 보여준다. 이 데이터 세트는 시카고 데이터 포털에서 제공된다.\n",
        "\n",
        "이 데이터 세트에 대한 자세한 설명과 원본 데이터 세트는 시카고 데이터 포털에서 확인할 수 있다:  \n",
        "\n",
        "[https://data.cityofchicago.org/Education/Chicago-Public-Schools-Progress-Report-Cards-2011-/9xs2-f89t](https://data.cityofchicago.org/Education/Chicago-Public-Schools-Progress-Report-Cards-2011-/9xs2-f89t?utm_medium=Exinfluencer&utm_source=Exinfluencer&utm_content=000026UJ&utm_term=10006555&utm_id=NA-SkillsNetwork-Channel-SkillsNetworkCoursesIBMDeveloperSkillsNetworkDB0201ENSkillsNetwork20127838-2021-01-01&cm_mmc=Email_Newsletter-\\_-Developer_Ed%2BTech-\\_-WW_WW-\\_-SkillsNetwork-Courses-IBMDeveloperSkillsNetwork-DB0201EN-SkillsNetwork-20127838&cm_mmca1=000026UJ&cm_mmca2=10006555&cm_mmca3=M12345678&cvosrc=email.Newsletter.M12345678&cvo_campaign=000026UJ)\n",
        "\n",
        "### 3. Chicago Crime Data(시카고 범죄 데이터)\n",
        "\n",
        "이 데이터 세트는 2001년부터 현재까지 시카고 시에서 발생한 범죄(피해자별 데이터를 포함한 살인 사건은 제외)를 반영하며, 최신 7일간의 데이터는 제외되어 있다.\n",
        "\n",
        "이 데이터 세트에 대한 자세한 설명과 원본 데이터 세트는 시카고 데이터 포털에서 확인할 수 있다:  \n",
        "\n",
        "[https://data.cityofchicago.org/Public-Safety/Crimes-2001-to-present/ijzp-q8t2](https://data.cityofchicago.org/Public-Safety/Crimes-2001-to-present/ijzp-q8t2?utm_medium=Exinfluencer&utm_source=Exinfluencer&utm_content=000026UJ&utm_term=10006555&utm_id=NA-SkillsNetwork-Channel-SkillsNetworkCoursesIBMDeveloperSkillsNetworkDB0201ENSkillsNetwork20127838-2021-01-01&cm_mmc=Email_Newsletter-\\_-Developer_Ed%2BTech-\\_-WW_WW-\\_-SkillsNetwork-Courses-IBMDeveloperSkillsNetwork-DB0201EN-SkillsNetwork-20127838&cm_mmca1=000026UJ&cm_mmca2=10006555&cm_mmca3=M12345678&cvosrc=email.Newsletter.M12345678&cvo_campaign=000026UJ)\n"
      ]
    },
    {
      "cell_type": "markdown",
      "metadata": {
        "id": "rg3X7801H37q"
      },
      "source": [
        "### 데이터 세트 다운로드\n",
        "\n",
        "이 과제는 전체 데이터 세트의 하위 집합으로 채워진 세 개의 테이블이 필요하다.\n",
        "\n",
        "분석할 데이터 세트는 일반적으로 인터넷에서 제공되는 .CSV(쉼표로 구분된 값) 파일 형식으로 제공되는 경우가 많다.\n",
        "\n",
        "아래 링크를 사용하여 Pandas 라이브러리를 이용해 데이터 파일을 읽어라.\n",
        "\n",
        "- 시카고 인구 조사 데이터  \n",
        "[Chicago Census Data](https://cf-courses-data.s3.us.cloud-object-storage.appdomain.cloud/IBMDeveloperSkillsNetwork-DB0201EN-SkillsNetwork/labs/FinalModule_Coursera_V5/data/ChicagoCensusData.csv?utm_medium=Exinfluencer&utm_source=Exinfluencer&utm_content=000026UJ&utm_term=10006555&utm_id=NA-SkillsNetwork-Channel-SkillsNetworkCoursesIBMDeveloperSkillsNetworkDB0201ENSkillsNetwork20127838-2021-01-01)\n",
        "\n",
        "- 시카고 공립학교  \n",
        "[Chicago Public Schools](https://cf-courses-data.s3.us.cloud-object-storage.appdomain.cloud/IBMDeveloperSkillsNetwork-DB0201EN-SkillsNetwork/labs/FinalModule_Coursera_V5/data/ChicagoPublicSchools.csv?utm_medium=Exinfluencer&utm_source=Exinfluencer&utm_content=000026UJ&utm_term=10006555&utm_id=NA-SkillsNetwork-Channel-SkillsNetworkCoursesIBMDeveloperSkillsNetworkDB0201ENSkillsNetwork20127838-2021-01-01)\n",
        "\n",
        "- 시카고 범죄 데이터  \n",
        "[Chicago Crime Data](https://cf-courses-data.s3.us.cloud-object-storage.appdomain.cloud/IBMDeveloperSkillsNetwork-DB0201EN-SkillsNetwork/labs/FinalModule_Coursera_V5/data/ChicagoCrimeData.csv?utm_medium=Exinfluencer&utm_source=Exinfluencer&utm_content=000026UJ&utm_term=10006555&utm_id=NA-SkillsNetwork-Channel-SkillsNetworkCoursesIBMDeveloperSkillsNetworkDB0201ENSkillsNetwork20127838-2021-01-01)\n",
        "\n",
        "**참고:**  \n",
        "위 링크에 있는 데이터 세트를 사용하고 시카고 데이터 포털에서 직접 다운로드하지 않도록 하라. 여기 제공된 버전은 원본 데이터 세트의 하위 집합으로, 일부 열 이름이 데이터베이스에 더 친화적이도록 수정되어 이 과제를 완료하기 더 쉬울 것이다.\n"
      ]
    },
    {
      "cell_type": "markdown",
      "metadata": {
        "id": "GjlM9DN-H37q"
      },
      "source": [
        "### 데이터 세트를 데이터베이스 테이블에 저장하기\n",
        "\n",
        "SQL을 사용하여 데이터를 분석하려면 먼저 SQLite DB에 데이터를 로드해야 한다.  \n",
        "다음과 같이 세 개의 테이블을 생성할 것이다:\n",
        "\n",
        "1.  **CENSUS_DATA**  \n",
        "2.  **CHICAGO_PUBLIC_SCHOOLS**  \n",
        "3.  **CHICAGO_CRIME_DATA**  \n"
      ]
    },
    {
      "cell_type": "markdown",
      "metadata": {
        "id": "JIUea8x6H37r"
      },
      "source": [
        "`pandas`와 `sqlite3` 라이브러리를 로드하고 `FinalDB.db`에 연결을 설정하자."
      ]
    },
    {
      "cell_type": "code",
      "execution_count": 1,
      "metadata": {
        "tags": [],
        "id": "hSap-bY4H37r"
      },
      "outputs": [],
      "source": [
        "import csv, sqlite3\n",
        "\n",
        "con = sqlite3.connect(\"FinalDB.db\")\n",
        "cur = con.cursor()"
      ]
    },
    {
      "cell_type": "markdown",
      "metadata": {
        "id": "ssnxaWnDH37s"
      },
      "source": [
        "Load the SQL magic module\n"
      ]
    },
    {
      "cell_type": "code",
      "execution_count": 2,
      "metadata": {
        "tags": [],
        "id": "n8nPb5xbH37s"
      },
      "outputs": [],
      "source": [
        "%load_ext sql\n",
        "%sql sqlite:///FinalDB.db"
      ]
    },
    {
      "cell_type": "markdown",
      "metadata": {
        "id": "LE3buRXoH37s"
      },
      "source": [
        "위 링크에서 제공된 데이터를 `Pandas`를 사용하여 데이터프레임으로 로드하라.  \n",
        "이 데이터프레임을 사용하여 데이터베이스 `FinalDB.db`에 필요한 테이블로 데이터를 로드하라."
      ]
    },
    {
      "cell_type": "code",
      "execution_count": 3,
      "metadata": {
        "tags": [],
        "colab": {
          "base_uri": "https://localhost:8080/"
        },
        "id": "Stj4oSHeH37t",
        "outputId": "9a204571-58db-48dd-d6e6-57477d40adde"
      },
      "outputs": [
        {
          "output_type": "execute_result",
          "data": {
            "text/plain": [
              "533"
            ]
          },
          "metadata": {},
          "execution_count": 3
        }
      ],
      "source": [
        "import pandas as pd\n",
        "df = pd.read_csv(\"https://cf-courses-data.s3.us.cloud-object-storage.appdomain.cloud/IBMDeveloperSkillsNetwork-DB0201EN-SkillsNetwork/labs/FinalModule_Coursera_V5/data/ChicagoCensusData.csv?utm_medium=Exinfluencer&utm_source=Exinfluencer&utm_content=000026UJ&utm_term=10006555&utm_id=NA-SkillsNetwork-Channel-SkillsNetworkCoursesIBMDeveloperSkillsNetworkDB0201ENSkillsNetwork20127838-2021-01-01\")\n",
        "df.to_sql(\"CENSUS_DATA\", con, if_exists='replace', index=False, method=\"multi\")\n",
        "\n",
        "df = pd.read_csv(\"https://cf-courses-data.s3.us.cloud-object-storage.appdomain.cloud/IBMDeveloperSkillsNetwork-DB0201EN-SkillsNetwork/labs/FinalModule_Coursera_V5/data/ChicagoPublicSchools.csv?utm_medium=Exinfluencer&utm_source=Exinfluencer&utm_content=000026UJ&utm_term=10006555&utm_id=NA-SkillsNetwork-Channel-SkillsNetworkCoursesIBMDeveloperSkillsNetworkDB0201ENSkillsNetwork20127838-2021-01-01\")\n",
        "df.to_sql(\"CHICAGO_PUBLIC_SCHOOLS\", con, if_exists='replace', index=False, method=\"multi\")\n",
        "\n",
        "df = pd.read_csv(\"https://cf-courses-data.s3.us.cloud-object-storage.appdomain.cloud/IBMDeveloperSkillsNetwork-DB0201EN-SkillsNetwork/labs/FinalModule_Coursera_V5/data/ChicagoCrimeData.csv?utm_medium=Exinfluencer&utm_source=Exinfluencer&utm_content=000026UJ&utm_term=10006555&utm_id=NA-SkillsNetwork-Channel-SkillsNetworkCoursesIBMDeveloperSkillsNetworkDB0201ENSkillsNetwork20127838-2021-01-01\")\n",
        "df.to_sql(\"CHICAGO_CRIME_DATA\", con, if_exists='replace', index=False, method=\"multi\")"
      ]
    },
    {
      "cell_type": "markdown",
      "metadata": {
        "id": "6KH_RpI2H37t"
      },
      "source": [
        "SQL magic 모듈과 데이터베이스 `FinalDB.db` 간의 연결을 설정하자.\n"
      ]
    },
    {
      "cell_type": "code",
      "execution_count": 4,
      "metadata": {
        "tags": [],
        "id": "oDYDLe_YH37t"
      },
      "outputs": [],
      "source": [
        "%sql sqlite:///FinalDB.db"
      ]
    },
    {
      "cell_type": "code",
      "source": [
        "df.head()"
      ],
      "metadata": {
        "colab": {
          "base_uri": "https://localhost:8080/",
          "height": 412
        },
        "id": "SHaJh3AO94-1",
        "outputId": "1c3c95b7-c6fd-4f1a-f671-011e2edaefcc"
      },
      "execution_count": 5,
      "outputs": [
        {
          "output_type": "execute_result",
          "data": {
            "text/plain": [
              "         ID CASE_NUMBER        DATE                     BLOCK IUCR  \\\n",
              "0   3512276    HK587712  2004-08-28        047XX S KEDZIE AVE  890   \n",
              "1   3406613    HK456306  2004-06-26  009XX N CENTRAL PARK AVE  820   \n",
              "2   8002131    HT233595  2011-04-04        043XX S WABASH AVE  820   \n",
              "3   7903289    HT133522  2010-12-30      083XX S KINGSTON AVE  840   \n",
              "4  10402076    HZ138551  2016-02-02           033XX W 66TH ST  820   \n",
              "\n",
              "  PRIMARY_TYPE                    DESCRIPTION          LOCATION_DESCRIPTION  \\\n",
              "0        THEFT                  FROM BUILDING            SMALL RETAIL STORE   \n",
              "1        THEFT                 $500 AND UNDER                         OTHER   \n",
              "2        THEFT                 $500 AND UNDER  NURSING HOME/RETIREMENT HOME   \n",
              "3        THEFT  FINANCIAL ID THEFT: OVER $300                     RESIDENCE   \n",
              "4        THEFT                 $500 AND UNDER                         ALLEY   \n",
              "\n",
              "   ARREST  DOMESTIC  ...  DISTRICT  WARD  COMMUNITY_AREA_NUMBER  FBICODE  \\\n",
              "0   False     False  ...         9  14.0                   58.0        6   \n",
              "1   False     False  ...        11  27.0                   23.0        6   \n",
              "2   False     False  ...         2   3.0                   38.0        6   \n",
              "3   False     False  ...         4   7.0                   46.0        6   \n",
              "4   False     False  ...         8  15.0                   66.0        6   \n",
              "\n",
              "  X_COORDINATE  Y_COORDINATE  YEAR   LATITUDE  LONGITUDE  \\\n",
              "0    1155838.0     1873050.0  2004  41.807440 -87.703956   \n",
              "1    1152206.0     1906127.0  2004  41.898280 -87.716406   \n",
              "2    1177436.0     1876313.0  2011  41.815933 -87.624642   \n",
              "3    1194622.0     1850125.0  2010  41.743665 -87.562463   \n",
              "4    1155240.0     1860661.0  2016  41.773455 -87.706480   \n",
              "\n",
              "                        LOCATION  \n",
              "0    (41.8074405, -87.703955849)  \n",
              "1  (41.898279962, -87.716405505)  \n",
              "2  (41.815933131, -87.624642127)  \n",
              "3  (41.743665322, -87.562462756)  \n",
              "4  (41.773455295, -87.706480471)  \n",
              "\n",
              "[5 rows x 21 columns]"
            ],
            "text/html": [
              "\n",
              "  <div id=\"df-8297d3de-6b77-4bc8-8734-1cceb8c0e650\" class=\"colab-df-container\">\n",
              "    <div>\n",
              "<style scoped>\n",
              "    .dataframe tbody tr th:only-of-type {\n",
              "        vertical-align: middle;\n",
              "    }\n",
              "\n",
              "    .dataframe tbody tr th {\n",
              "        vertical-align: top;\n",
              "    }\n",
              "\n",
              "    .dataframe thead th {\n",
              "        text-align: right;\n",
              "    }\n",
              "</style>\n",
              "<table border=\"1\" class=\"dataframe\">\n",
              "  <thead>\n",
              "    <tr style=\"text-align: right;\">\n",
              "      <th></th>\n",
              "      <th>ID</th>\n",
              "      <th>CASE_NUMBER</th>\n",
              "      <th>DATE</th>\n",
              "      <th>BLOCK</th>\n",
              "      <th>IUCR</th>\n",
              "      <th>PRIMARY_TYPE</th>\n",
              "      <th>DESCRIPTION</th>\n",
              "      <th>LOCATION_DESCRIPTION</th>\n",
              "      <th>ARREST</th>\n",
              "      <th>DOMESTIC</th>\n",
              "      <th>...</th>\n",
              "      <th>DISTRICT</th>\n",
              "      <th>WARD</th>\n",
              "      <th>COMMUNITY_AREA_NUMBER</th>\n",
              "      <th>FBICODE</th>\n",
              "      <th>X_COORDINATE</th>\n",
              "      <th>Y_COORDINATE</th>\n",
              "      <th>YEAR</th>\n",
              "      <th>LATITUDE</th>\n",
              "      <th>LONGITUDE</th>\n",
              "      <th>LOCATION</th>\n",
              "    </tr>\n",
              "  </thead>\n",
              "  <tbody>\n",
              "    <tr>\n",
              "      <th>0</th>\n",
              "      <td>3512276</td>\n",
              "      <td>HK587712</td>\n",
              "      <td>2004-08-28</td>\n",
              "      <td>047XX S KEDZIE AVE</td>\n",
              "      <td>890</td>\n",
              "      <td>THEFT</td>\n",
              "      <td>FROM BUILDING</td>\n",
              "      <td>SMALL RETAIL STORE</td>\n",
              "      <td>False</td>\n",
              "      <td>False</td>\n",
              "      <td>...</td>\n",
              "      <td>9</td>\n",
              "      <td>14.0</td>\n",
              "      <td>58.0</td>\n",
              "      <td>6</td>\n",
              "      <td>1155838.0</td>\n",
              "      <td>1873050.0</td>\n",
              "      <td>2004</td>\n",
              "      <td>41.807440</td>\n",
              "      <td>-87.703956</td>\n",
              "      <td>(41.8074405, -87.703955849)</td>\n",
              "    </tr>\n",
              "    <tr>\n",
              "      <th>1</th>\n",
              "      <td>3406613</td>\n",
              "      <td>HK456306</td>\n",
              "      <td>2004-06-26</td>\n",
              "      <td>009XX N CENTRAL PARK AVE</td>\n",
              "      <td>820</td>\n",
              "      <td>THEFT</td>\n",
              "      <td>$500 AND UNDER</td>\n",
              "      <td>OTHER</td>\n",
              "      <td>False</td>\n",
              "      <td>False</td>\n",
              "      <td>...</td>\n",
              "      <td>11</td>\n",
              "      <td>27.0</td>\n",
              "      <td>23.0</td>\n",
              "      <td>6</td>\n",
              "      <td>1152206.0</td>\n",
              "      <td>1906127.0</td>\n",
              "      <td>2004</td>\n",
              "      <td>41.898280</td>\n",
              "      <td>-87.716406</td>\n",
              "      <td>(41.898279962, -87.716405505)</td>\n",
              "    </tr>\n",
              "    <tr>\n",
              "      <th>2</th>\n",
              "      <td>8002131</td>\n",
              "      <td>HT233595</td>\n",
              "      <td>2011-04-04</td>\n",
              "      <td>043XX S WABASH AVE</td>\n",
              "      <td>820</td>\n",
              "      <td>THEFT</td>\n",
              "      <td>$500 AND UNDER</td>\n",
              "      <td>NURSING HOME/RETIREMENT HOME</td>\n",
              "      <td>False</td>\n",
              "      <td>False</td>\n",
              "      <td>...</td>\n",
              "      <td>2</td>\n",
              "      <td>3.0</td>\n",
              "      <td>38.0</td>\n",
              "      <td>6</td>\n",
              "      <td>1177436.0</td>\n",
              "      <td>1876313.0</td>\n",
              "      <td>2011</td>\n",
              "      <td>41.815933</td>\n",
              "      <td>-87.624642</td>\n",
              "      <td>(41.815933131, -87.624642127)</td>\n",
              "    </tr>\n",
              "    <tr>\n",
              "      <th>3</th>\n",
              "      <td>7903289</td>\n",
              "      <td>HT133522</td>\n",
              "      <td>2010-12-30</td>\n",
              "      <td>083XX S KINGSTON AVE</td>\n",
              "      <td>840</td>\n",
              "      <td>THEFT</td>\n",
              "      <td>FINANCIAL ID THEFT: OVER $300</td>\n",
              "      <td>RESIDENCE</td>\n",
              "      <td>False</td>\n",
              "      <td>False</td>\n",
              "      <td>...</td>\n",
              "      <td>4</td>\n",
              "      <td>7.0</td>\n",
              "      <td>46.0</td>\n",
              "      <td>6</td>\n",
              "      <td>1194622.0</td>\n",
              "      <td>1850125.0</td>\n",
              "      <td>2010</td>\n",
              "      <td>41.743665</td>\n",
              "      <td>-87.562463</td>\n",
              "      <td>(41.743665322, -87.562462756)</td>\n",
              "    </tr>\n",
              "    <tr>\n",
              "      <th>4</th>\n",
              "      <td>10402076</td>\n",
              "      <td>HZ138551</td>\n",
              "      <td>2016-02-02</td>\n",
              "      <td>033XX W 66TH ST</td>\n",
              "      <td>820</td>\n",
              "      <td>THEFT</td>\n",
              "      <td>$500 AND UNDER</td>\n",
              "      <td>ALLEY</td>\n",
              "      <td>False</td>\n",
              "      <td>False</td>\n",
              "      <td>...</td>\n",
              "      <td>8</td>\n",
              "      <td>15.0</td>\n",
              "      <td>66.0</td>\n",
              "      <td>6</td>\n",
              "      <td>1155240.0</td>\n",
              "      <td>1860661.0</td>\n",
              "      <td>2016</td>\n",
              "      <td>41.773455</td>\n",
              "      <td>-87.706480</td>\n",
              "      <td>(41.773455295, -87.706480471)</td>\n",
              "    </tr>\n",
              "  </tbody>\n",
              "</table>\n",
              "<p>5 rows × 21 columns</p>\n",
              "</div>\n",
              "    <div class=\"colab-df-buttons\">\n",
              "\n",
              "  <div class=\"colab-df-container\">\n",
              "    <button class=\"colab-df-convert\" onclick=\"convertToInteractive('df-8297d3de-6b77-4bc8-8734-1cceb8c0e650')\"\n",
              "            title=\"Convert this dataframe to an interactive table.\"\n",
              "            style=\"display:none;\">\n",
              "\n",
              "  <svg xmlns=\"http://www.w3.org/2000/svg\" height=\"24px\" viewBox=\"0 -960 960 960\">\n",
              "    <path d=\"M120-120v-720h720v720H120Zm60-500h600v-160H180v160Zm220 220h160v-160H400v160Zm0 220h160v-160H400v160ZM180-400h160v-160H180v160Zm440 0h160v-160H620v160ZM180-180h160v-160H180v160Zm440 0h160v-160H620v160Z\"/>\n",
              "  </svg>\n",
              "    </button>\n",
              "\n",
              "  <style>\n",
              "    .colab-df-container {\n",
              "      display:flex;\n",
              "      gap: 12px;\n",
              "    }\n",
              "\n",
              "    .colab-df-convert {\n",
              "      background-color: #E8F0FE;\n",
              "      border: none;\n",
              "      border-radius: 50%;\n",
              "      cursor: pointer;\n",
              "      display: none;\n",
              "      fill: #1967D2;\n",
              "      height: 32px;\n",
              "      padding: 0 0 0 0;\n",
              "      width: 32px;\n",
              "    }\n",
              "\n",
              "    .colab-df-convert:hover {\n",
              "      background-color: #E2EBFA;\n",
              "      box-shadow: 0px 1px 2px rgba(60, 64, 67, 0.3), 0px 1px 3px 1px rgba(60, 64, 67, 0.15);\n",
              "      fill: #174EA6;\n",
              "    }\n",
              "\n",
              "    .colab-df-buttons div {\n",
              "      margin-bottom: 4px;\n",
              "    }\n",
              "\n",
              "    [theme=dark] .colab-df-convert {\n",
              "      background-color: #3B4455;\n",
              "      fill: #D2E3FC;\n",
              "    }\n",
              "\n",
              "    [theme=dark] .colab-df-convert:hover {\n",
              "      background-color: #434B5C;\n",
              "      box-shadow: 0px 1px 3px 1px rgba(0, 0, 0, 0.15);\n",
              "      filter: drop-shadow(0px 1px 2px rgba(0, 0, 0, 0.3));\n",
              "      fill: #FFFFFF;\n",
              "    }\n",
              "  </style>\n",
              "\n",
              "    <script>\n",
              "      const buttonEl =\n",
              "        document.querySelector('#df-8297d3de-6b77-4bc8-8734-1cceb8c0e650 button.colab-df-convert');\n",
              "      buttonEl.style.display =\n",
              "        google.colab.kernel.accessAllowed ? 'block' : 'none';\n",
              "\n",
              "      async function convertToInteractive(key) {\n",
              "        const element = document.querySelector('#df-8297d3de-6b77-4bc8-8734-1cceb8c0e650');\n",
              "        const dataTable =\n",
              "          await google.colab.kernel.invokeFunction('convertToInteractive',\n",
              "                                                    [key], {});\n",
              "        if (!dataTable) return;\n",
              "\n",
              "        const docLinkHtml = 'Like what you see? Visit the ' +\n",
              "          '<a target=\"_blank\" href=https://colab.research.google.com/notebooks/data_table.ipynb>data table notebook</a>'\n",
              "          + ' to learn more about interactive tables.';\n",
              "        element.innerHTML = '';\n",
              "        dataTable['output_type'] = 'display_data';\n",
              "        await google.colab.output.renderOutput(dataTable, element);\n",
              "        const docLink = document.createElement('div');\n",
              "        docLink.innerHTML = docLinkHtml;\n",
              "        element.appendChild(docLink);\n",
              "      }\n",
              "    </script>\n",
              "  </div>\n",
              "\n",
              "\n",
              "<div id=\"df-29559856-1168-4c69-bb05-98ceee9e2af9\">\n",
              "  <button class=\"colab-df-quickchart\" onclick=\"quickchart('df-29559856-1168-4c69-bb05-98ceee9e2af9')\"\n",
              "            title=\"Suggest charts\"\n",
              "            style=\"display:none;\">\n",
              "\n",
              "<svg xmlns=\"http://www.w3.org/2000/svg\" height=\"24px\"viewBox=\"0 0 24 24\"\n",
              "     width=\"24px\">\n",
              "    <g>\n",
              "        <path d=\"M19 3H5c-1.1 0-2 .9-2 2v14c0 1.1.9 2 2 2h14c1.1 0 2-.9 2-2V5c0-1.1-.9-2-2-2zM9 17H7v-7h2v7zm4 0h-2V7h2v10zm4 0h-2v-4h2v4z\"/>\n",
              "    </g>\n",
              "</svg>\n",
              "  </button>\n",
              "\n",
              "<style>\n",
              "  .colab-df-quickchart {\n",
              "      --bg-color: #E8F0FE;\n",
              "      --fill-color: #1967D2;\n",
              "      --hover-bg-color: #E2EBFA;\n",
              "      --hover-fill-color: #174EA6;\n",
              "      --disabled-fill-color: #AAA;\n",
              "      --disabled-bg-color: #DDD;\n",
              "  }\n",
              "\n",
              "  [theme=dark] .colab-df-quickchart {\n",
              "      --bg-color: #3B4455;\n",
              "      --fill-color: #D2E3FC;\n",
              "      --hover-bg-color: #434B5C;\n",
              "      --hover-fill-color: #FFFFFF;\n",
              "      --disabled-bg-color: #3B4455;\n",
              "      --disabled-fill-color: #666;\n",
              "  }\n",
              "\n",
              "  .colab-df-quickchart {\n",
              "    background-color: var(--bg-color);\n",
              "    border: none;\n",
              "    border-radius: 50%;\n",
              "    cursor: pointer;\n",
              "    display: none;\n",
              "    fill: var(--fill-color);\n",
              "    height: 32px;\n",
              "    padding: 0;\n",
              "    width: 32px;\n",
              "  }\n",
              "\n",
              "  .colab-df-quickchart:hover {\n",
              "    background-color: var(--hover-bg-color);\n",
              "    box-shadow: 0 1px 2px rgba(60, 64, 67, 0.3), 0 1px 3px 1px rgba(60, 64, 67, 0.15);\n",
              "    fill: var(--button-hover-fill-color);\n",
              "  }\n",
              "\n",
              "  .colab-df-quickchart-complete:disabled,\n",
              "  .colab-df-quickchart-complete:disabled:hover {\n",
              "    background-color: var(--disabled-bg-color);\n",
              "    fill: var(--disabled-fill-color);\n",
              "    box-shadow: none;\n",
              "  }\n",
              "\n",
              "  .colab-df-spinner {\n",
              "    border: 2px solid var(--fill-color);\n",
              "    border-color: transparent;\n",
              "    border-bottom-color: var(--fill-color);\n",
              "    animation:\n",
              "      spin 1s steps(1) infinite;\n",
              "  }\n",
              "\n",
              "  @keyframes spin {\n",
              "    0% {\n",
              "      border-color: transparent;\n",
              "      border-bottom-color: var(--fill-color);\n",
              "      border-left-color: var(--fill-color);\n",
              "    }\n",
              "    20% {\n",
              "      border-color: transparent;\n",
              "      border-left-color: var(--fill-color);\n",
              "      border-top-color: var(--fill-color);\n",
              "    }\n",
              "    30% {\n",
              "      border-color: transparent;\n",
              "      border-left-color: var(--fill-color);\n",
              "      border-top-color: var(--fill-color);\n",
              "      border-right-color: var(--fill-color);\n",
              "    }\n",
              "    40% {\n",
              "      border-color: transparent;\n",
              "      border-right-color: var(--fill-color);\n",
              "      border-top-color: var(--fill-color);\n",
              "    }\n",
              "    60% {\n",
              "      border-color: transparent;\n",
              "      border-right-color: var(--fill-color);\n",
              "    }\n",
              "    80% {\n",
              "      border-color: transparent;\n",
              "      border-right-color: var(--fill-color);\n",
              "      border-bottom-color: var(--fill-color);\n",
              "    }\n",
              "    90% {\n",
              "      border-color: transparent;\n",
              "      border-bottom-color: var(--fill-color);\n",
              "    }\n",
              "  }\n",
              "</style>\n",
              "\n",
              "  <script>\n",
              "    async function quickchart(key) {\n",
              "      const quickchartButtonEl =\n",
              "        document.querySelector('#' + key + ' button');\n",
              "      quickchartButtonEl.disabled = true;  // To prevent multiple clicks.\n",
              "      quickchartButtonEl.classList.add('colab-df-spinner');\n",
              "      try {\n",
              "        const charts = await google.colab.kernel.invokeFunction(\n",
              "            'suggestCharts', [key], {});\n",
              "      } catch (error) {\n",
              "        console.error('Error during call to suggestCharts:', error);\n",
              "      }\n",
              "      quickchartButtonEl.classList.remove('colab-df-spinner');\n",
              "      quickchartButtonEl.classList.add('colab-df-quickchart-complete');\n",
              "    }\n",
              "    (() => {\n",
              "      let quickchartButtonEl =\n",
              "        document.querySelector('#df-29559856-1168-4c69-bb05-98ceee9e2af9 button');\n",
              "      quickchartButtonEl.style.display =\n",
              "        google.colab.kernel.accessAllowed ? 'block' : 'none';\n",
              "    })();\n",
              "  </script>\n",
              "</div>\n",
              "\n",
              "    </div>\n",
              "  </div>\n"
            ],
            "application/vnd.google.colaboratory.intrinsic+json": {
              "type": "dataframe",
              "variable_name": "df"
            }
          },
          "metadata": {},
          "execution_count": 5
        }
      ]
    },
    {
      "cell_type": "markdown",
      "metadata": {
        "id": "2cOEDgidH37t"
      },
      "source": [
        "이제 아래 질문들에 답할 준비가 되었다.  \n",
        "문제에 대한 답변뿐만 아니라 작성한 코드도 저장하자."
      ]
    },
    {
      "cell_type": "markdown",
      "metadata": {
        "id": "4L-AWSInH37t"
      },
      "source": [
        "## Problems\n",
        "\n",
        "Now write and execute SQL queries to solve assignment problems\n",
        "\n",
        "### Problem 1\n",
        "\n",
        "##### Find the total number of crimes recorded in the CRIME table.\n",
        "##### CRAME 테이블에 기록된 총 범죄 수"
      ]
    },
    {
      "cell_type": "code",
      "source": [
        "%config SqlMagic.style = '_DEPRECATED_DEFAULT'"
      ],
      "metadata": {
        "id": "f_G6-bBIQrgL"
      },
      "execution_count": 6,
      "outputs": []
    },
    {
      "cell_type": "code",
      "execution_count": 7,
      "metadata": {
        "tags": [],
        "colab": {
          "base_uri": "https://localhost:8080/",
          "height": 98
        },
        "id": "k07U63trH37t",
        "outputId": "e559e5b5-d016-4fba-dcc7-90fd09de31e9"
      },
      "outputs": [
        {
          "output_type": "stream",
          "name": "stdout",
          "text": [
            " * sqlite:///FinalDB.db\n",
            "Done.\n"
          ]
        },
        {
          "output_type": "execute_result",
          "data": {
            "text/plain": [
              "[(533,)]"
            ],
            "text/html": [
              "<table>\n",
              "    <thead>\n",
              "        <tr>\n",
              "            <th>count(*)</th>\n",
              "        </tr>\n",
              "    </thead>\n",
              "    <tbody>\n",
              "        <tr>\n",
              "            <td>533</td>\n",
              "        </tr>\n",
              "    </tbody>\n",
              "</table>"
            ]
          },
          "metadata": {},
          "execution_count": 7
        }
      ],
      "source": [
        "%sql select count(*) from CHICAGO_CRIME_DATA;"
      ]
    },
    {
      "cell_type": "markdown",
      "metadata": {
        "id": "2jBdcASZH37t"
      },
      "source": [
        "### Problem 2\n",
        "\n",
        "##### List community area names and numbers with per capita income less than 11000.\n",
        "##### 1인당 소득이 11000 미만인 커뮤니티 지역 이름과 번호 나열"
      ]
    },
    {
      "cell_type": "code",
      "execution_count": 8,
      "metadata": {
        "tags": [],
        "colab": {
          "base_uri": "https://localhost:8080/",
          "height": 163
        },
        "id": "DMAD65HlH37u",
        "outputId": "c1145c34-dffa-4a10-ef5d-3b20e7a920b4"
      },
      "outputs": [
        {
          "output_type": "stream",
          "name": "stdout",
          "text": [
            " * sqlite:///FinalDB.db\n",
            "Done.\n"
          ]
        },
        {
          "output_type": "execute_result",
          "data": {
            "text/plain": [
              "[('West Garfield Park', 26.0),\n",
              " ('South Lawndale', 30.0),\n",
              " ('Fuller Park', 37.0),\n",
              " ('Riverdale', 54.0)]"
            ],
            "text/html": [
              "<table>\n",
              "    <thead>\n",
              "        <tr>\n",
              "            <th>COMMUNITY_AREA_NAME</th>\n",
              "            <th>COMMUNITY_AREA_NUMBER</th>\n",
              "        </tr>\n",
              "    </thead>\n",
              "    <tbody>\n",
              "        <tr>\n",
              "            <td>West Garfield Park</td>\n",
              "            <td>26.0</td>\n",
              "        </tr>\n",
              "        <tr>\n",
              "            <td>South Lawndale</td>\n",
              "            <td>30.0</td>\n",
              "        </tr>\n",
              "        <tr>\n",
              "            <td>Fuller Park</td>\n",
              "            <td>37.0</td>\n",
              "        </tr>\n",
              "        <tr>\n",
              "            <td>Riverdale</td>\n",
              "            <td>54.0</td>\n",
              "        </tr>\n",
              "    </tbody>\n",
              "</table>"
            ]
          },
          "metadata": {},
          "execution_count": 8
        }
      ],
      "source": [
        "%sql select COMMUNITY_AREA_NAME, COMMUNITY_AREA_NUMBER from CENSUS_DATA where PER_CAPITA_INCOME < 11000;"
      ]
    },
    {
      "cell_type": "markdown",
      "metadata": {
        "id": "jqCmPbFnH37u"
      },
      "source": [
        "5### Problem 3\n",
        "##### List all case numbers for crimes involving minors?(children are not considered minors for the purposes of crime analysis)\n",
        "##### 미성년자 관련 범죄에 대한 모든 사건번호 나열(단, 범죄분석 목적상 아동은 미성년자로 간주하지 않음)"
      ]
    },
    {
      "cell_type": "code",
      "execution_count": 9,
      "metadata": {
        "id": "RJO7GQIKH37u",
        "colab": {
          "base_uri": "https://localhost:8080/"
        },
        "outputId": "691714bb-631c-47e1-ea0e-def8e0df6102"
      },
      "outputs": [
        {
          "output_type": "stream",
          "name": "stdout",
          "text": [
            " * sqlite:///FinalDB.db\n",
            "(sqlite3.OperationalError) near \"select\": syntax error\n",
            "[SQL: select CASE_NUMBER from CHICAGO_CRIME_DATA select]\n",
            "(Background on this error at: https://sqlalche.me/e/20/e3q8)\n"
          ]
        }
      ],
      "source": [
        "%sql select CASE_NUMBER from CHICAGO_CRIME_DATA select"
      ]
    },
    {
      "cell_type": "markdown",
      "metadata": {
        "id": "LnCtqSObH37u"
      },
      "source": [
        "### Problem 4\n",
        "\n",
        "##### List all kidnapping crimes involving a child?\n",
        "##### 아이와 관련된 모든 납치 범죄를 나열"
      ]
    },
    {
      "cell_type": "code",
      "execution_count": 10,
      "metadata": {
        "id": "Pgg1D_pHH37u",
        "colab": {
          "base_uri": "https://localhost:8080/",
          "height": 171
        },
        "outputId": "b2b5b95f-0a88-4695-be68-9edf41c1ec78"
      },
      "outputs": [
        {
          "output_type": "stream",
          "name": "stdout",
          "text": [
            " * sqlite:///FinalDB.db\n",
            "Done.\n"
          ]
        },
        {
          "output_type": "execute_result",
          "data": {
            "text/plain": [
              "[(5276766, 'HN144152', '2007-01-26', '050XX W VAN BUREN ST', '1792', 'KIDNAPPING', 'CHILD ABDUCTION/STRANGER', 'STREET', 0, 0, 1533, 15, 29.0, 25.0, '20', 1143050.0, 1897546.0, 2007, 41.87490841, -87.75024931, '(41.874908413, -87.750249307)')]"
            ],
            "text/html": [
              "<table>\n",
              "    <thead>\n",
              "        <tr>\n",
              "            <th>ID</th>\n",
              "            <th>CASE_NUMBER</th>\n",
              "            <th>DATE</th>\n",
              "            <th>BLOCK</th>\n",
              "            <th>IUCR</th>\n",
              "            <th>PRIMARY_TYPE</th>\n",
              "            <th>DESCRIPTION</th>\n",
              "            <th>LOCATION_DESCRIPTION</th>\n",
              "            <th>ARREST</th>\n",
              "            <th>DOMESTIC</th>\n",
              "            <th>BEAT</th>\n",
              "            <th>DISTRICT</th>\n",
              "            <th>WARD</th>\n",
              "            <th>COMMUNITY_AREA_NUMBER</th>\n",
              "            <th>FBICODE</th>\n",
              "            <th>X_COORDINATE</th>\n",
              "            <th>Y_COORDINATE</th>\n",
              "            <th>YEAR</th>\n",
              "            <th>LATITUDE</th>\n",
              "            <th>LONGITUDE</th>\n",
              "            <th>LOCATION</th>\n",
              "        </tr>\n",
              "    </thead>\n",
              "    <tbody>\n",
              "        <tr>\n",
              "            <td>5276766</td>\n",
              "            <td>HN144152</td>\n",
              "            <td>2007-01-26</td>\n",
              "            <td>050XX W VAN BUREN ST</td>\n",
              "            <td>1792</td>\n",
              "            <td>KIDNAPPING</td>\n",
              "            <td>CHILD ABDUCTION/STRANGER</td>\n",
              "            <td>STREET</td>\n",
              "            <td>0</td>\n",
              "            <td>0</td>\n",
              "            <td>1533</td>\n",
              "            <td>15</td>\n",
              "            <td>29.0</td>\n",
              "            <td>25.0</td>\n",
              "            <td>20</td>\n",
              "            <td>1143050.0</td>\n",
              "            <td>1897546.0</td>\n",
              "            <td>2007</td>\n",
              "            <td>41.87490841</td>\n",
              "            <td>-87.75024931</td>\n",
              "            <td>(41.874908413, -87.750249307)</td>\n",
              "        </tr>\n",
              "    </tbody>\n",
              "</table>"
            ]
          },
          "metadata": {},
          "execution_count": 10
        }
      ],
      "source": [
        "%sql select * from CHICAGO_CRIME_DATA where PRIMARY_TYPE = 'KIDNAPPING' and DESCRIPTION like '%CHILD%';"
      ]
    },
    {
      "cell_type": "markdown",
      "metadata": {
        "id": "PB5LisV3H37u"
      },
      "source": [
        "### Problem 5\n",
        "\n",
        "##### List the kind of crimes that were recorded at schools. (No repetitions)\n",
        "##### 학교에서 기록된 범죄의 종류를 나열합니다. (반복 금지)"
      ]
    },
    {
      "cell_type": "code",
      "execution_count": 11,
      "metadata": {
        "id": "TMNbWmgGH37u",
        "colab": {
          "base_uri": "https://localhost:8080/",
          "height": 205
        },
        "outputId": "6c67fc73-6c91-4021-9e4d-f6e42375dfcb"
      },
      "outputs": [
        {
          "output_type": "stream",
          "name": "stdout",
          "text": [
            " * sqlite:///FinalDB.db\n",
            "Done.\n"
          ]
        },
        {
          "output_type": "execute_result",
          "data": {
            "text/plain": [
              "[('BATTERY',),\n",
              " ('CRIMINAL DAMAGE',),\n",
              " ('NARCOTICS',),\n",
              " ('ASSAULT',),\n",
              " ('CRIMINAL TRESPASS',),\n",
              " ('PUBLIC PEACE VIOLATION',)]"
            ],
            "text/html": [
              "<table>\n",
              "    <thead>\n",
              "        <tr>\n",
              "            <th>PRIMARY_TYPE</th>\n",
              "        </tr>\n",
              "    </thead>\n",
              "    <tbody>\n",
              "        <tr>\n",
              "            <td>BATTERY</td>\n",
              "        </tr>\n",
              "        <tr>\n",
              "            <td>CRIMINAL DAMAGE</td>\n",
              "        </tr>\n",
              "        <tr>\n",
              "            <td>NARCOTICS</td>\n",
              "        </tr>\n",
              "        <tr>\n",
              "            <td>ASSAULT</td>\n",
              "        </tr>\n",
              "        <tr>\n",
              "            <td>CRIMINAL TRESPASS</td>\n",
              "        </tr>\n",
              "        <tr>\n",
              "            <td>PUBLIC PEACE VIOLATION</td>\n",
              "        </tr>\n",
              "    </tbody>\n",
              "</table>"
            ]
          },
          "metadata": {},
          "execution_count": 11
        }
      ],
      "source": [
        "%sql select distinct(PRIMARY_TYPE) from CHICAGO_CRIME_DATA where LOCATION_DESCRIPTION like '%SCHOOL%';"
      ]
    },
    {
      "cell_type": "markdown",
      "metadata": {
        "id": "oHTOyYfaH37u"
      },
      "source": [
        "### Problem 6\n",
        "\n",
        "##### List the type of schools along with the average safety score for each type.\n",
        "##### 각 유형별 평균 안전 점수와 함께 학교 유형을 나열"
      ]
    },
    {
      "cell_type": "code",
      "execution_count": 12,
      "metadata": {
        "id": "HPFuN-PnH37u",
        "colab": {
          "base_uri": "https://localhost:8080/",
          "height": 141
        },
        "outputId": "0e5532d0-a2ae-4654-8882-91f5db483f95"
      },
      "outputs": [
        {
          "output_type": "stream",
          "name": "stdout",
          "text": [
            " * sqlite:///FinalDB.db\n",
            "Done.\n"
          ]
        },
        {
          "output_type": "execute_result",
          "data": {
            "text/plain": [
              "[('ES', 49.52038369304557), ('HS', 49.62352941176471), ('MS', 48.0)]"
            ],
            "text/html": [
              "<table>\n",
              "    <thead>\n",
              "        <tr>\n",
              "            <th>Elementary, Middle, or High School</th>\n",
              "            <th>avg(SAFETY_SCORE)</th>\n",
              "        </tr>\n",
              "    </thead>\n",
              "    <tbody>\n",
              "        <tr>\n",
              "            <td>ES</td>\n",
              "            <td>49.52038369304557</td>\n",
              "        </tr>\n",
              "        <tr>\n",
              "            <td>HS</td>\n",
              "            <td>49.62352941176471</td>\n",
              "        </tr>\n",
              "        <tr>\n",
              "            <td>MS</td>\n",
              "            <td>48.0</td>\n",
              "        </tr>\n",
              "    </tbody>\n",
              "</table>"
            ]
          },
          "metadata": {},
          "execution_count": 12
        }
      ],
      "source": [
        "%sql select \"Elementary, Middle, or High School\", avg(SAFETY_SCORE) from CHICAGO_PUBLIC_SCHOOLS group by \"Elementary, Middle, or High School\";"
      ]
    },
    {
      "cell_type": "markdown",
      "metadata": {
        "id": "PI0cfvPtH37v"
      },
      "source": [
        "### Problem 7\n",
        "\n",
        "##### List 5 community areas with highest % of households below poverty line\n",
        "##### 빈곤선 이하 가구 비율이 가장 높은 지역 5개 지역 목록"
      ]
    },
    {
      "cell_type": "code",
      "execution_count": 13,
      "metadata": {
        "id": "0XDhpk7bH37v",
        "colab": {
          "base_uri": "https://localhost:8080/",
          "height": 184
        },
        "outputId": "2e32b85f-007e-4999-a966-8b16b2500c79"
      },
      "outputs": [
        {
          "output_type": "stream",
          "name": "stdout",
          "text": [
            " * sqlite:///FinalDB.db\n",
            "Done.\n"
          ]
        },
        {
          "output_type": "execute_result",
          "data": {
            "text/plain": [
              "[('Riverdale', 56.5),\n",
              " ('Fuller Park', 51.2),\n",
              " ('Englewood', 46.6),\n",
              " ('North Lawndale', 43.1),\n",
              " ('East Garfield Park', 42.4)]"
            ],
            "text/html": [
              "<table>\n",
              "    <thead>\n",
              "        <tr>\n",
              "            <th>COMMUNITY_AREA_NAME</th>\n",
              "            <th>PERCENT_HOUSEHOLDS_BELOW_POVERTY</th>\n",
              "        </tr>\n",
              "    </thead>\n",
              "    <tbody>\n",
              "        <tr>\n",
              "            <td>Riverdale</td>\n",
              "            <td>56.5</td>\n",
              "        </tr>\n",
              "        <tr>\n",
              "            <td>Fuller Park</td>\n",
              "            <td>51.2</td>\n",
              "        </tr>\n",
              "        <tr>\n",
              "            <td>Englewood</td>\n",
              "            <td>46.6</td>\n",
              "        </tr>\n",
              "        <tr>\n",
              "            <td>North Lawndale</td>\n",
              "            <td>43.1</td>\n",
              "        </tr>\n",
              "        <tr>\n",
              "            <td>East Garfield Park</td>\n",
              "            <td>42.4</td>\n",
              "        </tr>\n",
              "    </tbody>\n",
              "</table>"
            ]
          },
          "metadata": {},
          "execution_count": 13
        }
      ],
      "source": [
        "%sql select COMMUNITY_AREA_NAME, PERCENT_HOUSEHOLDS_BELOW_POVERTY from CENSUS_DATA order by PERCENT_HOUSEHOLDS_BELOW_POVERTY desc limit 5;"
      ]
    },
    {
      "cell_type": "markdown",
      "metadata": {
        "id": "sE2TAVfWH37v"
      },
      "source": [
        "### Problem 8\n",
        "\n",
        "##### Which community area is most crime prone? Display the coumminty area number only.\n",
        "##### 범죄가 가장 많이 발생하기 쉬운 지역은? 지역 번호만 표시합니다."
      ]
    },
    {
      "cell_type": "code",
      "execution_count": 14,
      "metadata": {
        "id": "KvT03OsCH37v",
        "colab": {
          "base_uri": "https://localhost:8080/",
          "height": 98
        },
        "outputId": "ed9791b5-ad17-4cca-8060-09d2b24b571a"
      },
      "outputs": [
        {
          "output_type": "stream",
          "name": "stdout",
          "text": [
            " * sqlite:///FinalDB.db\n",
            "Done.\n"
          ]
        },
        {
          "output_type": "execute_result",
          "data": {
            "text/plain": [
              "[(25.0, 43)]"
            ],
            "text/html": [
              "<table>\n",
              "    <thead>\n",
              "        <tr>\n",
              "            <th>COMMUNITY_AREA_NUMBER</th>\n",
              "            <th>count</th>\n",
              "        </tr>\n",
              "    </thead>\n",
              "    <tbody>\n",
              "        <tr>\n",
              "            <td>25.0</td>\n",
              "            <td>43</td>\n",
              "        </tr>\n",
              "    </tbody>\n",
              "</table>"
            ]
          },
          "metadata": {},
          "execution_count": 14
        }
      ],
      "source": [
        "%sql select COMMUNITY_AREA_NUMBER, count(*) as count from CHICAGO_CRIME_DATA group by COMMUNITY_AREA_NUMBER order by count desc limit 1;"
      ]
    },
    {
      "cell_type": "markdown",
      "metadata": {
        "id": "N0vNBD9HH37v"
      },
      "source": [
        "\n",
        "Double-click **here** for a hint\n",
        "\n",
        "<!--\n",
        "가장 많은 사건이 발생한 'community area number'를 쿼리하자\n",
        "-->\n"
      ]
    },
    {
      "cell_type": "markdown",
      "metadata": {
        "id": "oIJz0C0IH37v"
      },
      "source": [
        "### Problem 9\n",
        "\n",
        "##### Use a sub-query to find the name of the community area with highest hardship index\n",
        "##### 하위 쿼리를 사용하여 고난도 지수가 가장 높은 커뮤니티 영역의 이름 찾기"
      ]
    },
    {
      "cell_type": "code",
      "execution_count": 15,
      "metadata": {
        "id": "5NFfgcmeH37v",
        "colab": {
          "base_uri": "https://localhost:8080/",
          "height": 98
        },
        "outputId": "d99ad9a5-3a4b-42ac-ce15-daab5b69dac0"
      },
      "outputs": [
        {
          "output_type": "stream",
          "name": "stdout",
          "text": [
            " * sqlite:///FinalDB.db\n",
            "Done.\n"
          ]
        },
        {
          "output_type": "execute_result",
          "data": {
            "text/plain": [
              "[('Riverdale',)]"
            ],
            "text/html": [
              "<table>\n",
              "    <thead>\n",
              "        <tr>\n",
              "            <th>COMMUNITY_AREA_NAME</th>\n",
              "        </tr>\n",
              "    </thead>\n",
              "    <tbody>\n",
              "        <tr>\n",
              "            <td>Riverdale</td>\n",
              "        </tr>\n",
              "    </tbody>\n",
              "</table>"
            ]
          },
          "metadata": {},
          "execution_count": 15
        }
      ],
      "source": [
        "%sql select COMMUNITY_AREA_NAME from CENSUS_DATA where HARDSHIP_INDEX = (select max(HARDSHIP_INDEX) from CENSUS_DATA);"
      ]
    },
    {
      "cell_type": "markdown",
      "metadata": {
        "id": "ZWejnbZyH37v"
      },
      "source": [
        "### Problem 10\n",
        "\n",
        "##### Use a sub-query to determine the Community Area Name with most number of crimes?\n",
        "##### 하위 쿼리를 사용하여 범죄가 가장 많은 커뮤니티 영역 이름을 나타내시오."
      ]
    },
    {
      "cell_type": "code",
      "execution_count": 16,
      "metadata": {
        "colab": {
          "base_uri": "https://localhost:8080/",
          "height": 98
        },
        "id": "CHeVeIC4H37v",
        "outputId": "27b6fc90-89ef-469d-dd0e-1d3db0d70432"
      },
      "outputs": [
        {
          "output_type": "stream",
          "name": "stdout",
          "text": [
            " * sqlite:///FinalDB.db\n",
            "Done.\n"
          ]
        },
        {
          "output_type": "execute_result",
          "data": {
            "text/plain": [
              "[('Austin',)]"
            ],
            "text/html": [
              "<table>\n",
              "    <thead>\n",
              "        <tr>\n",
              "            <th>COMMUNITY_AREA_NAME</th>\n",
              "        </tr>\n",
              "    </thead>\n",
              "    <tbody>\n",
              "        <tr>\n",
              "            <td>Austin</td>\n",
              "        </tr>\n",
              "    </tbody>\n",
              "</table>"
            ]
          },
          "metadata": {},
          "execution_count": 16
        }
      ],
      "source": [
        "%sql SELECT COMMUNITY_AREA_NAME \\\n",
        "FROM CENSUS_DATA \\\n",
        "WHERE COMMUNITY_AREA_NUMBER = ( \\\n",
        "    SELECT COMMUNITY_AREA_NUMBER \\\n",
        "    FROM CHICAGO_CRIME_DATA \\\n",
        "    GROUP BY COMMUNITY_AREA_NUMBER \\\n",
        "    ORDER BY COUNT(*) DESC \\\n",
        "    LIMIT 1 \\\n",
        ");"
      ]
    }
  ],
  "metadata": {
    "kernelspec": {
      "display_name": "Python",
      "language": "python",
      "name": "conda-env-python-py"
    },
    "language_info": {
      "codemirror_mode": {
        "name": "ipython",
        "version": 3
      },
      "file_extension": ".py",
      "mimetype": "text/x-python",
      "name": "python",
      "nbconvert_exporter": "python",
      "pygments_lexer": "ipython3",
      "version": "3.7.12"
    },
    "prev_pub_hash": "3c6bc487a66d442614b3071a4d6ea7fa0785b37ce97cb46f3bcb7a9010c84b6f",
    "colab": {
      "provenance": [],
      "gpuType": "T4",
      "include_colab_link": true
    },
    "accelerator": "GPU"
  },
  "nbformat": 4,
  "nbformat_minor": 0
}